{
 "cells": [
  {
   "cell_type": "code",
   "execution_count": 11,
   "id": "2e5d784a",
   "metadata": {},
   "outputs": [],
   "source": [
    "import json \n",
    "import pandas as pd \n",
    "from pandas.io.json import json_normalize"
   ]
  },
  {
   "cell_type": "code",
   "execution_count": 17,
   "id": "63aff86d",
   "metadata": {},
   "outputs": [],
   "source": [
    " #package for flattening json in pandas df\n",
    "\n",
    "#load json object\n",
    "with open('static/analiza/anal.json') as f:\n",
    "    d = json.load(f)\n",
    "\n",
    "\n",
    "\n"
   ]
  },
  {
   "cell_type": "code",
   "execution_count": 18,
   "id": "14fd65c6",
   "metadata": {},
   "outputs": [
    {
     "data": {
      "text/plain": [
       "[{'table': 'C',\n",
       "  'no': '195/C/NBP/2021',\n",
       "  'tradingDate': '2021-10-06',\n",
       "  'effectiveDate': '2021-10-07',\n",
       "  'rates': [{'currency': 'dolar amerykaĹ„ski',\n",
       "    'code': 'USD',\n",
       "    'bid': 3.9136,\n",
       "    'ask': 3.9926},\n",
       "   {'currency': 'dolar australijski',\n",
       "    'code': 'AUD',\n",
       "    'bid': 2.8373,\n",
       "    'ask': 2.8947},\n",
       "   {'currency': 'dolar kanadyjski',\n",
       "    'code': 'CAD',\n",
       "    'bid': 3.0981,\n",
       "    'ask': 3.1607},\n",
       "   {'currency': 'euro', 'code': 'EUR', 'bid': 4.5175, 'ask': 4.6087},\n",
       "   {'currency': 'forint (WÄ™gry)',\n",
       "    'code': 'HUF',\n",
       "    'bid': 0.012581,\n",
       "    'ask': 0.012835},\n",
       "   {'currency': 'frank szwajcarski',\n",
       "    'code': 'CHF',\n",
       "    'bid': 4.2158,\n",
       "    'ask': 4.301},\n",
       "   {'currency': 'funt szterling', 'code': 'GBP', 'bid': 5.3091, 'ask': 5.4163},\n",
       "   {'currency': 'jen (Japonia)',\n",
       "    'code': 'JPY',\n",
       "    'bid': 0.035158,\n",
       "    'ask': 0.035868},\n",
       "   {'currency': 'korona czeska', 'code': 'CZK', 'bid': 0.1777, 'ask': 0.1813},\n",
       "   {'currency': 'korona duĹ„ska', 'code': 'DKK', 'bid': 0.6072, 'ask': 0.6194},\n",
       "   {'currency': 'korona norweska', 'code': 'NOK', 'bid': 0.455, 'ask': 0.4642},\n",
       "   {'currency': 'korona szwedzka',\n",
       "    'code': 'SEK',\n",
       "    'bid': 0.4443,\n",
       "    'ask': 0.4533},\n",
       "   {'currency': 'SDR (MFW)', 'code': 'XDR', 'bid': 5.5005, 'ask': 5.6117}]}]"
      ]
     },
     "execution_count": 18,
     "metadata": {},
     "output_type": "execute_result"
    }
   ],
   "source": [
    "d"
   ]
  },
  {
   "cell_type": "code",
   "execution_count": 20,
   "id": "66e14a17",
   "metadata": {},
   "outputs": [
    {
     "data": {
      "text/html": [
       "<div>\n",
       "<style scoped>\n",
       "    .dataframe tbody tr th:only-of-type {\n",
       "        vertical-align: middle;\n",
       "    }\n",
       "\n",
       "    .dataframe tbody tr th {\n",
       "        vertical-align: top;\n",
       "    }\n",
       "\n",
       "    .dataframe thead th {\n",
       "        text-align: right;\n",
       "    }\n",
       "</style>\n",
       "<table border=\"1\" class=\"dataframe\">\n",
       "  <thead>\n",
       "    <tr style=\"text-align: right;\">\n",
       "      <th></th>\n",
       "      <th>table</th>\n",
       "      <th>no</th>\n",
       "      <th>tradingDate</th>\n",
       "      <th>effectiveDate</th>\n",
       "      <th>rates</th>\n",
       "    </tr>\n",
       "  </thead>\n",
       "  <tbody>\n",
       "    <tr>\n",
       "      <th>0</th>\n",
       "      <td>C</td>\n",
       "      <td>195/C/NBP/2021</td>\n",
       "      <td>2021-10-06</td>\n",
       "      <td>2021-10-07</td>\n",
       "      <td>[{'currency': 'dolar amerykański', 'code': 'US...</td>\n",
       "    </tr>\n",
       "  </tbody>\n",
       "</table>\n",
       "</div>"
      ],
      "text/plain": [
       "  table              no tradingDate effectiveDate  \\\n",
       "0     C  195/C/NBP/2021  2021-10-06    2021-10-07   \n",
       "\n",
       "                                               rates  \n",
       "0  [{'currency': 'dolar amerykański', 'code': 'US...  "
      ]
     },
     "execution_count": 20,
     "metadata": {},
     "output_type": "execute_result"
    }
   ],
   "source": [
    "\n",
    "customer_json_file = 'static/analiza/anal.json'\n",
    "\n",
    "\n",
    "customers_json = pd.read_json(customer_json_file,\n",
    "   convert_dates=True)\n",
    "\n",
    "\n",
    "customers_json"
   ]
  },
  {
   "cell_type": "code",
   "execution_count": 37,
   "id": "a01353e3",
   "metadata": {},
   "outputs": [
    {
     "data": {
      "text/html": [
       "<div>\n",
       "<style scoped>\n",
       "    .dataframe tbody tr th:only-of-type {\n",
       "        vertical-align: middle;\n",
       "    }\n",
       "\n",
       "    .dataframe tbody tr th {\n",
       "        vertical-align: top;\n",
       "    }\n",
       "\n",
       "    .dataframe thead th {\n",
       "        text-align: right;\n",
       "    }\n",
       "</style>\n",
       "<table border=\"1\" class=\"dataframe\">\n",
       "  <thead>\n",
       "    <tr style=\"text-align: right;\">\n",
       "      <th></th>\n",
       "      <th>table</th>\n",
       "      <th>no</th>\n",
       "      <th>tradingDate</th>\n",
       "      <th>effectiveDate</th>\n",
       "      <th>rates</th>\n",
       "    </tr>\n",
       "  </thead>\n",
       "  <tbody>\n",
       "    <tr>\n",
       "      <th>0</th>\n",
       "      <td>C</td>\n",
       "      <td>195/C/NBP/2021</td>\n",
       "      <td>2021-10-06</td>\n",
       "      <td>2021-10-07</td>\n",
       "      <td>[{'currency': 'dolar amerykaĹ„ski', 'code': 'U...</td>\n",
       "    </tr>\n",
       "  </tbody>\n",
       "</table>\n",
       "</div>"
      ],
      "text/plain": [
       "  table              no tradingDate effectiveDate  \\\n",
       "0     C  195/C/NBP/2021  2021-10-06    2021-10-07   \n",
       "\n",
       "                                               rates  \n",
       "0  [{'currency': 'dolar amerykaĹ„ski', 'code': 'U...  "
      ]
     },
     "execution_count": 37,
     "metadata": {},
     "output_type": "execute_result"
    }
   ],
   "source": [
    "import pandas as pd\n",
    "\n",
    "df6 = pd.DataFrame.from_dict(d, orient='columns')\n",
    "\n",
    "df6"
   ]
  },
  {
   "cell_type": "code",
   "execution_count": 38,
   "id": "d8cd4428",
   "metadata": {},
   "outputs": [
    {
     "data": {
      "text/html": [
       "<div>\n",
       "<style scoped>\n",
       "    .dataframe tbody tr th:only-of-type {\n",
       "        vertical-align: middle;\n",
       "    }\n",
       "\n",
       "    .dataframe tbody tr th {\n",
       "        vertical-align: top;\n",
       "    }\n",
       "\n",
       "    .dataframe thead th {\n",
       "        text-align: right;\n",
       "    }\n",
       "</style>\n",
       "<table border=\"1\" class=\"dataframe\">\n",
       "  <thead>\n",
       "    <tr style=\"text-align: right;\">\n",
       "      <th></th>\n",
       "      <th>table</th>\n",
       "      <th>no</th>\n",
       "      <th>tradingDate</th>\n",
       "      <th>effectiveDate</th>\n",
       "      <th>rates</th>\n",
       "    </tr>\n",
       "  </thead>\n",
       "  <tbody>\n",
       "    <tr>\n",
       "      <th>0</th>\n",
       "      <td>C</td>\n",
       "      <td>195/C/NBP/2021</td>\n",
       "      <td>2021-10-06</td>\n",
       "      <td>2021-10-07</td>\n",
       "      <td>[{'currency': 'dolar amerykaĹ„ski', 'code': 'U...</td>\n",
       "    </tr>\n",
       "  </tbody>\n",
       "</table>\n",
       "</div>"
      ],
      "text/plain": [
       "  table              no tradingDate effectiveDate  \\\n",
       "0     C  195/C/NBP/2021  2021-10-06    2021-10-07   \n",
       "\n",
       "                                               rates  \n",
       "0  [{'currency': 'dolar amerykaĹ„ski', 'code': 'U...  "
      ]
     },
     "execution_count": 38,
     "metadata": {},
     "output_type": "execute_result"
    }
   ],
   "source": [
    " df2 = pd.json_normalize(d)\n",
    "\n",
    "df2.columns = df2.columns.map(lambda x: x.split(\".\")[-1])\n",
    "\n",
    "df2"
   ]
  },
  {
   "cell_type": "code",
   "execution_count": 39,
   "id": "a3021ef2",
   "metadata": {},
   "outputs": [
    {
     "data": {
      "text/plain": [
       "[{'table': 'C',\n",
       "  'no': '195/C/NBP/2021',\n",
       "  'tradingDate': '2021-10-06',\n",
       "  'effectiveDate': '2021-10-07',\n",
       "  'rates': [{'currency': 'dolar amerykaĹ„ski',\n",
       "    'code': 'USD',\n",
       "    'bid': 3.9136,\n",
       "    'ask': 3.9926},\n",
       "   {'currency': 'dolar australijski',\n",
       "    'code': 'AUD',\n",
       "    'bid': 2.8373,\n",
       "    'ask': 2.8947},\n",
       "   {'currency': 'dolar kanadyjski',\n",
       "    'code': 'CAD',\n",
       "    'bid': 3.0981,\n",
       "    'ask': 3.1607},\n",
       "   {'currency': 'euro', 'code': 'EUR', 'bid': 4.5175, 'ask': 4.6087},\n",
       "   {'currency': 'forint (WÄ™gry)',\n",
       "    'code': 'HUF',\n",
       "    'bid': 0.012581,\n",
       "    'ask': 0.012835},\n",
       "   {'currency': 'frank szwajcarski',\n",
       "    'code': 'CHF',\n",
       "    'bid': 4.2158,\n",
       "    'ask': 4.301},\n",
       "   {'currency': 'funt szterling', 'code': 'GBP', 'bid': 5.3091, 'ask': 5.4163},\n",
       "   {'currency': 'jen (Japonia)',\n",
       "    'code': 'JPY',\n",
       "    'bid': 0.035158,\n",
       "    'ask': 0.035868},\n",
       "   {'currency': 'korona czeska', 'code': 'CZK', 'bid': 0.1777, 'ask': 0.1813},\n",
       "   {'currency': 'korona duĹ„ska', 'code': 'DKK', 'bid': 0.6072, 'ask': 0.6194},\n",
       "   {'currency': 'korona norweska', 'code': 'NOK', 'bid': 0.455, 'ask': 0.4642},\n",
       "   {'currency': 'korona szwedzka',\n",
       "    'code': 'SEK',\n",
       "    'bid': 0.4443,\n",
       "    'ask': 0.4533},\n",
       "   {'currency': 'SDR (MFW)', 'code': 'XDR', 'bid': 5.5005, 'ask': 5.6117}]}]"
      ]
     },
     "execution_count": 39,
     "metadata": {},
     "output_type": "execute_result"
    }
   ],
   "source": [
    "d"
   ]
  },
  {
   "cell_type": "code",
   "execution_count": 43,
   "id": "a258e7d4",
   "metadata": {},
   "outputs": [
    {
     "ename": "AttributeError",
     "evalue": "'list' object has no attribute 'values'",
     "output_type": "error",
     "traceback": [
      "\u001b[1;31m---------------------------------------------------------------------------\u001b[0m",
      "\u001b[1;31mAttributeError\u001b[0m                            Traceback (most recent call last)",
      "\u001b[1;32m~\\AppData\\Local\\Temp/ipykernel_12164/1334907964.py\u001b[0m in \u001b[0;36m<module>\u001b[1;34m\u001b[0m\n\u001b[1;32m----> 1\u001b[1;33m \u001b[0mdataframe\u001b[0m \u001b[1;33m=\u001b[0m \u001b[0mpd\u001b[0m\u001b[1;33m.\u001b[0m\u001b[0mDataFrame\u001b[0m\u001b[1;33m.\u001b[0m\u001b[0mfrom_dict\u001b[0m\u001b[1;33m(\u001b[0m\u001b[0md\u001b[0m\u001b[1;33m,\u001b[0m \u001b[0morient\u001b[0m\u001b[1;33m=\u001b[0m\u001b[1;34m\"index\"\u001b[0m\u001b[1;33m)\u001b[0m\u001b[1;33m\u001b[0m\u001b[1;33m\u001b[0m\u001b[0m\n\u001b[0m\u001b[0;32m      2\u001b[0m \u001b[1;33m\u001b[0m\u001b[0m\n",
      "\u001b[1;32mc:\\users\\may\\appdata\\local\\programs\\python\\python39\\lib\\site-packages\\pandas\\core\\frame.py\u001b[0m in \u001b[0;36mfrom_dict\u001b[1;34m(cls, data, orient, dtype, columns)\u001b[0m\n\u001b[0;32m   1581\u001b[0m             \u001b[1;32mif\u001b[0m \u001b[0mlen\u001b[0m\u001b[1;33m(\u001b[0m\u001b[0mdata\u001b[0m\u001b[1;33m)\u001b[0m \u001b[1;33m>\u001b[0m \u001b[1;36m0\u001b[0m\u001b[1;33m:\u001b[0m\u001b[1;33m\u001b[0m\u001b[1;33m\u001b[0m\u001b[0m\n\u001b[0;32m   1582\u001b[0m                 \u001b[1;31m# TODO speed up Series case\u001b[0m\u001b[1;33m\u001b[0m\u001b[1;33m\u001b[0m\u001b[1;33m\u001b[0m\u001b[0m\n\u001b[1;32m-> 1583\u001b[1;33m                 \u001b[1;32mif\u001b[0m \u001b[0misinstance\u001b[0m\u001b[1;33m(\u001b[0m\u001b[0mlist\u001b[0m\u001b[1;33m(\u001b[0m\u001b[0mdata\u001b[0m\u001b[1;33m.\u001b[0m\u001b[0mvalues\u001b[0m\u001b[1;33m(\u001b[0m\u001b[1;33m)\u001b[0m\u001b[1;33m)\u001b[0m\u001b[1;33m[\u001b[0m\u001b[1;36m0\u001b[0m\u001b[1;33m]\u001b[0m\u001b[1;33m,\u001b[0m \u001b[1;33m(\u001b[0m\u001b[0mSeries\u001b[0m\u001b[1;33m,\u001b[0m \u001b[0mdict\u001b[0m\u001b[1;33m)\u001b[0m\u001b[1;33m)\u001b[0m\u001b[1;33m:\u001b[0m\u001b[1;33m\u001b[0m\u001b[1;33m\u001b[0m\u001b[0m\n\u001b[0m\u001b[0;32m   1584\u001b[0m                     \u001b[0mdata\u001b[0m \u001b[1;33m=\u001b[0m \u001b[0m_from_nested_dict\u001b[0m\u001b[1;33m(\u001b[0m\u001b[0mdata\u001b[0m\u001b[1;33m)\u001b[0m\u001b[1;33m\u001b[0m\u001b[1;33m\u001b[0m\u001b[0m\n\u001b[0;32m   1585\u001b[0m                 \u001b[1;32melse\u001b[0m\u001b[1;33m:\u001b[0m\u001b[1;33m\u001b[0m\u001b[1;33m\u001b[0m\u001b[0m\n",
      "\u001b[1;31mAttributeError\u001b[0m: 'list' object has no attribute 'values'"
     ]
    }
   ],
   "source": [
    "dataframe = pd.DataFrame.from_dict(d, orient=\"index\")\n",
    "\n"
   ]
  },
  {
   "cell_type": "code",
   "execution_count": null,
   "id": "05c9363f",
   "metadata": {},
   "outputs": [],
   "source": []
  }
 ],
 "metadata": {
  "kernelspec": {
   "display_name": "Python 3 (ipykernel)",
   "language": "python",
   "name": "python3"
  },
  "language_info": {
   "codemirror_mode": {
    "name": "ipython",
    "version": 3
   },
   "file_extension": ".py",
   "mimetype": "text/x-python",
   "name": "python",
   "nbconvert_exporter": "python",
   "pygments_lexer": "ipython3",
   "version": "3.9.4"
  }
 },
 "nbformat": 4,
 "nbformat_minor": 5
}
